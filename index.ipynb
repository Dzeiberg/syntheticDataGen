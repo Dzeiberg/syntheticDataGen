{
 "cells": [
  {
   "cell_type": "code",
   "execution_count": null,
   "metadata": {},
   "outputs": [],
   "source": [
    "#hide\n",
    "from syntheticDataGen.core import *"
   ]
  },
  {
   "cell_type": "markdown",
   "metadata": {},
   "source": [
    "# Gaussian Mixture Data Generation For Binary Classification\n",
    "\n",
    "> This package allows one to generate synethic data for binary classification tasks. Data is sampled from a pair of randomly generated mixtures of multidimensional gaussian distributions. The user can specify the dimensionality, acceptable AUC range of the posterior distibution and component irriducibility parameters."
   ]
  },
  {
   "cell_type": "markdown",
   "metadata": {},
   "source": [
    "## Install"
   ]
  },
  {
   "cell_type": "markdown",
   "metadata": {},
   "source": [
    "`pip install syntheticDataGen`"
   ]
  },
  {
   "cell_type": "markdown",
   "metadata": {},
   "source": [
    "# Examples"
   ]
  },
  {
   "cell_type": "code",
   "execution_count": null,
   "metadata": {},
   "outputs": [],
   "source": [
    "from syntheticDataGen.dataset import generateParams\n",
    "import matplotlib.pyplot as plt\n",
    "import numpy as np"
   ]
  },
  {
   "cell_type": "markdown",
   "metadata": {},
   "source": [
    "# Gaussian Mixture"
   ]
  },
  {
   "cell_type": "code",
   "execution_count": null,
   "metadata": {},
   "outputs": [
    {
     "name": "stderr",
     "output_type": "stream",
     "text": [
      "\r",
      "  0%|                                                                                                                                                     | 0/2 [00:00<?, ?it/s]"
     ]
    },
    {
     "name": "stdout",
     "output_type": "stream",
     "text": [
      "isMetricSatisfied{'aucpn': 0.5, 'irreducibility': [0.0, 0.0]}\n",
      "anchorSetProp0.01\n",
      "Sigma Scale Perturb\n",
      "Sigma Ratios: [0.5 1. ]\n",
      "Sigma Ratios: [0.5 1. ]\n",
      "isMetricSatisfied{'aucpn': 0.61508872, 'irreducibility': [0.0252, 0.0]}\n",
      "anchorSetProp0.01\n",
      "Perturb Proportion\n",
      "isMetricSatisfied{'aucpn': 0.61408368, 'irreducibility': [0.0238, 0.0]}\n",
      "anchorSetProp0.01\n",
      "Mu Perturb\n",
      "isMetricSatisfied{'aucpn': 0.7842663599999999, 'irreducibility': [0.2502, 0.0]}\n",
      "anchorSetProp0.01\n",
      "Mu Perturb\n",
      "isMetricSatisfied{'aucpn': 0.6039854, 'irreducibility': [0.0222, 0.0]}\n",
      "anchorSetProp0.01\n",
      "Perturb Proportion\n",
      "isMetricSatisfied{'aucpn': 0.60306608, 'irreducibility': [0.0228, 0.0]}\n",
      "anchorSetProp0.01\n",
      "Perturb Proportion\n",
      "isMetricSatisfied{'aucpn': 0.6092671599999999, 'irreducibility': [0.022, 0.0]}\n",
      "anchorSetProp0.01\n",
      "Perturb Proportion\n",
      "isMetricSatisfied{'aucpn': 0.59984048, 'irreducibility': [0.0228, 0.0]}\n",
      "anchorSetProp0.01\n",
      "Sigma Scale Perturb\n",
      "Sigma Ratios: [0.25 1.  ]\n",
      "0.75\n",
      "Sigma Ratios: [0.375 1.   ]\n",
      "0.875\n",
      "Sigma Ratios: [0.4375 1.    ]\n",
      "0.9375\n",
      "Sigma Ratios: [0.46875 1.     ]\n",
      "0.96875\n",
      "Sigma Ratios: [0.484375 1.      ]\n",
      "0.984375\n",
      "Sigma Ratios: [0.4921875 1.       ]\n",
      "0.9921875\n",
      "Sigma Ratios: [0.49609375 1.        ]\n",
      "0.99609375\n",
      "Sigma Ratios: [0.49804688 1.        ]\n",
      "0.998046875\n",
      "Sigma Ratios: [0.49902344 1.        ]\n",
      "0.9990234375\n",
      "Sigma Ratios: [0.49951172 1.        ]\n",
      "0.99951171875\n",
      "Sigma Ratios: [0.49975586 1.        ]\n",
      "0.999755859375\n",
      "Sigma Ratios: [0.49987793 1.        ]\n",
      "0.9998779296875\n",
      "Sigma Ratios: [0.49993896 1.        ]\n",
      "0.99993896484375\n",
      "Sigma Ratios: [0.49996948 1.        ]\n",
      "0.999969482421875\n",
      "Sigma Ratios: [0.49998474 1.        ]\n",
      "0.9999847412109375\n",
      "Sigma Ratios: [0.49999237 1.        ]\n",
      "0.9999923706054688\n",
      "Sigma Ratios: [0.49999619 1.        ]\n",
      "0.9999961853027344\n",
      "Sigma Ratios: [0.49999809 1.        ]\n",
      "0.9999980926513672\n",
      "Sigma Ratios: [0.49999905 1.        ]\n",
      "0.9999990463256836\n",
      "Sigma Ratios: [0.49999952 1.        ]\n",
      "0.9999995231628418\n",
      "Sigma Ratios: [0.49999976 1.        ]\n",
      "0.9999997615814209\n",
      "Sigma Ratios: [0.49999988 1.        ]\n",
      "0.9999998807907104\n"
     ]
    },
    {
     "name": "stderr",
     "output_type": "stream",
     "text": [
      "100%|█████████████████████████████████████████████████████████████████████████████████████████████████████████████████████████████████████████████| 2/2 [00:00<00:00,  5.61it/s]"
     ]
    },
    {
     "name": "stdout",
     "output_type": "stream",
     "text": [
      "Sigma Ratios: [0.49999994 1.        ]\n",
      "0.9999999403953552\n",
      "Sigma Ratios: [0.49999997 1.        ]\n",
      "0.9999999701976776\n",
      "Sigma Ratios: [0.49999999 1.        ]\n",
      "0.9999999850988388\n",
      "Sigma Ratios: [0.49999999 1.        ]\n",
      "0.9999999925494194\n",
      "Sigma Ratios: [0.5 1. ]\n",
      "0.9999999962747097\n",
      "Sigma Ratios: [0.5 1. ]\n",
      "0.9999999981373549\n",
      "Sigma Ratios: [0.5 1. ]\n",
      "0.9999999990686774\n",
      "Sigma Ratios: [0.5 1. ]\n",
      "0.9999999995343387\n",
      "Sigma Ratios: [0.5 1. ]\n",
      "0.9999999997671694\n",
      "Sigma Ratios: [0.5 1. ]\n",
      "0.9999999998835847\n",
      "Sigma Ratios: [0.5 1. ]\n",
      "0.9999999999417923\n",
      "Sigma Ratios: [0.5 1. ]\n",
      "0.9999999999708962\n",
      "Sigma Ratios: [0.5 1. ]\n",
      "0.9999999999854481\n",
      "Sigma Ratios: [0.5 1. ]\n",
      "0.999999999992724\n",
      "Sigma Ratios: [0.5 1. ]\n",
      "0.999999999996362\n",
      "Sigma Ratios: [0.5 1. ]\n",
      "0.999999999998181\n",
      "Sigma Ratios: [0.5 1. ]\n",
      "0.9999999999990905\n",
      "Sigma Ratios: [0.5 1. ]\n",
      "0.9999999999995453\n",
      "Sigma Ratios: [0.5 1. ]\n",
      "0.9999999999997726\n",
      "Sigma Ratios: [0.5 1. ]\n",
      "0.9999999999998863\n",
      "Sigma Ratios: [0.5 1. ]\n",
      "0.9999999999999432\n",
      "Sigma Ratios: [0.5 1. ]\n",
      "0.9999999999999716\n",
      "Sigma Ratios: [0.5 1. ]\n",
      "0.9999999999999858\n",
      "Sigma Ratios: [0.5 1. ]\n",
      "0.9999999999999929\n",
      "Sigma Ratios: [0.5 1. ]\n",
      "0.9999999999999964\n",
      "Sigma Ratios: [0.5 1. ]\n",
      "0.9999999999999982\n",
      "Sigma Ratios: [0.5 1. ]\n",
      "0.9999999999999991\n",
      "Sigma Ratios: [0.5 1. ]\n",
      "0.9999999999999996\n",
      "Sigma Ratios: [0.5 1. ]\n",
      "0.9999999999999998\n",
      "Sigma Ratios: [0.5 1. ]\n",
      "0.9999999999999999\n",
      "Sigma Ratios: [0.5 1. ]\n",
      "1.0\n",
      "Sigma Ratios: [0.5 1. ]\n",
      "Sigma Ratios: [0.5 1. ]\n",
      "isMetricSatisfied{'aucpn': 0.6064006800000001, 'irreducibility': [0.0234, 0.0]}\n",
      "anchorSetProp0.01\n",
      "Sigma Scale Perturb\n",
      "Sigma Ratios: [1. 1.]\n",
      "Sigma Ratios: [1. 1.]\n",
      "isMetricSatisfied{'aucpn': 0.5, 'irreducibility': [0.0, 0.0]}\n",
      "anchorSetProp0.01\n",
      "Mu Perturb\n",
      "isMetricSatisfied{'aucpn': 0.83789376, 'irreducibility': [0.193, 0.2002]}\n",
      "anchorSetProp0.01\n",
      "isMetricSatisfied{'aucpn': 0.5, 'irreducibility': [0.0, 0.0]}\n",
      "anchorSetProp0.01\n",
      "Mu Perturb\n",
      "isMetricSatisfied{'aucpn': 0.7628476000000001, 'irreducibility': [0.05, 0.043]}\n",
      "anchorSetProp0.01\n",
      "0 1 1.7636393116770788\n"
     ]
    },
    {
     "name": "stderr",
     "output_type": "stream",
     "text": [
      "\n"
     ]
    },
    {
     "name": "stdout",
     "output_type": "stream",
     "text": [
      "0 1 2.2547747161844143\n"
     ]
    }
   ],
   "source": [
    "params0 = generateParams(2,1,[.65,.85],)"
   ]
  },
  {
   "cell_type": "code",
   "execution_count": null,
   "metadata": {},
   "outputs": [],
   "source": [
    "X,y,componentAssignment,XPos,XNeg,componentAssignmentPos,componentAssignmentNeg = params0.dg.pn_data(100000)"
   ]
  },
  {
   "cell_type": "code",
   "execution_count": null,
   "metadata": {},
   "outputs": [
    {
     "data": {
      "text/plain": [
       "Text(0.5, 1.0, 'posterior distribution')"
      ]
     },
     "execution_count": null,
     "metadata": {},
     "output_type": "execute_result"
    },
    {
     "data": {
      "image/png": "[encoded data removed]",
      "text/plain": [
       "<Figure size 288x576 with 2 Axes>"
      ]
     },
     "metadata": {
      "needs_background": "light"
     },
     "output_type": "display_data"
    }
   ],
   "source": [
    "fig,ax = plt.subplots(2,1,figsize=(4,8),sharex=True)\n",
    "binvalsPos, bins, patches = ax[0].hist(X[y.ravel()].ravel(),density=True)\n",
    "binvalsNeg,_,_ = ax[0].hist(X[~y.ravel()].ravel(),density=True,alpha=.5,bins=bins)\n",
    "rng = np.arange(X.min(),X.max(),.01)\n",
    "ax[1].plot(rng,params0.dg.pn_posterior(rng))\n",
    "ax[1].set_title(\"posterior distribution\")\n",
    "# ax[1].scatter((bins[:-1]+bins[1:])/2,binvalsPos/(binvalsPos+binvalsNeg))"
   ]
  },
  {
   "cell_type": "code",
   "execution_count": null,
   "metadata": {},
   "outputs": [],
   "source": [
    "from sklearn import metrics"
   ]
  },
  {
   "cell_type": "markdown",
   "metadata": {},
   "source": [
    "Overall distribution might not have posterior in the given range; here all the "
   ]
  },
  {
   "cell_type": "code",
   "execution_count": null,
   "metadata": {},
   "outputs": [
    {
     "data": {
      "text/plain": [
       "0.9463780887594025"
      ]
     },
     "execution_count": null,
     "metadata": {},
     "output_type": "execute_result"
    }
   ],
   "source": [
    "metrics.roc_auc_score(y,params0.dg.pn_posterior(X))"
   ]
  },
  {
   "cell_type": "markdown",
   "metadata": {},
   "source": [
    "The posterior distribution will result in an AUC in the specified range when evaluated on each component"
   ]
  },
  {
   "cell_type": "code",
   "execution_count": null,
   "metadata": {},
   "outputs": [
    {
     "data": {
      "image/png": "[encoded data removed]",
      "text/plain": [
       "<Figure size 432x288 with 1 Axes>"
      ]
     },
     "metadata": {
      "needs_background": "light"
     },
     "output_type": "display_data"
    },
    {
     "data": {
      "image/png": "[encoded data removed]",
      "text/plain": [
       "<Figure size 432x288 with 1 Axes>"
      ]
     },
     "metadata": {
      "needs_background": "light"
     },
     "output_type": "display_data"
    }
   ],
   "source": [
    "for k in np.unique(componentAssignment).astype(int):\n",
    "    Xk,yk = X[componentAssignment==k],y[componentAssignment==k]\n",
    "    plt.hist(Xk[yk],density=True)\n",
    "    plt.hist(Xk[~yk],alpha=.5,density=True)\n",
    "    plt.title(f\"component {k} - auc: {metrics.roc_auc_score(yk,params0.dg.pn_posterior(Xk)):.2f}\")\n",
    "    plt.show()"
   ]
  },
  {
   "cell_type": "markdown",
   "metadata": {},
   "source": [
    "## Multivariate Gaussian Example"
   ]
  },
  {
   "cell_type": "markdown",
   "metadata": {},
   "source": [
    "Generate a dataset comprised of 3 clusters in 2 dimensions each with an AUC in the range $[.6, .8]$"
   ]
  },
  {
   "cell_type": "code",
   "execution_count": null,
   "metadata": {},
   "outputs": [
    {
     "name": "stderr",
     "output_type": "stream",
     "text": [
      "100%|█████████████████████████████████████████████████████████████████████████████████████████████████████████████████████████████████████████████| 3/3 [00:00<00:00, 20.50it/s]\n"
     ]
    },
    {
     "name": "stdout",
     "output_type": "stream",
     "text": [
      "isMetricSatisfied{'aucpn': 0.5, 'irreducibility': [0.0, 0.0]}\n",
      "anchorSetProp0.01\n",
      "Perturb Proportion\n",
      "isMetricSatisfied{'aucpn': 0.5, 'irreducibility': [0.0, 0.0]}\n",
      "anchorSetProp0.01\n",
      "Mu Perturb\n",
      "isMetricSatisfied{'aucpn': 0.7584392399999998, 'irreducibility': [0.0458, 0.0456]}\n",
      "anchorSetProp0.01\n",
      "isMetricSatisfied{'aucpn': 0.5, 'irreducibility': [0.0, 0.0]}\n",
      "anchorSetProp0.01\n",
      "Mu Perturb\n",
      "isMetricSatisfied{'aucpn': 0.75774036, 'irreducibility': [0.0418, 0.0458]}\n",
      "anchorSetProp0.01\n",
      "isMetricSatisfied{'aucpn': 0.5, 'irreducibility': [0.0, 0.0]}\n",
      "anchorSetProp0.01\n",
      "Sigma Shape Perturb\n",
      "Sigma Ratios: [1.         0.39568147]\n",
      "Sigma Ratios: [1.         0.94503512]\n",
      "Sigma Ratios: [1.         0.94503512]\n",
      "isMetricSatisfied{'aucpn': 0.62142496, 'irreducibility': [0.0046, 0.009]}\n",
      "anchorSetProp0.01\n",
      "Perturb Proportion\n",
      "isMetricSatisfied{'aucpn': 0.61857888, 'irreducibility': [0.0062, 0.009]}\n",
      "anchorSetProp0.01\n",
      "Perturb Proportion\n",
      "isMetricSatisfied{'aucpn': 0.6108399200000001, 'irreducibility': [0.005, 0.0098]}\n",
      "anchorSetProp0.01\n",
      "Sigma Shape Perturb\n",
      "Sigma Ratios: [0.87481754 1.        ]\n",
      "Sigma Ratios: [0.87481754 1.        ]\n",
      "isMetricSatisfied{'aucpn': 0.68711728, 'irreducibility': [0.0504, 0.0332]}\n",
      "anchorSetProp0.01\n",
      "0 1 3.244209950978152\n",
      "0 2 0.15241730472496465\n",
      "0 2 1.1204130079914014\n",
      "1 2 0.7962243110243253\n",
      "1 2 4.988468364214936\n",
      "0 1 3.4530778573558436\n"
     ]
    }
   ],
   "source": [
    "params1 = generateParams(3,2,[.6,.8],)"
   ]
  },
  {
   "cell_type": "code",
   "execution_count": null,
   "metadata": {},
   "outputs": [
    {
     "data": {
      "image/png": "[encoded data removed]",
      "text/plain": [
       "<Figure size 432x288 with 1 Axes>"
      ]
     },
     "metadata": {
      "needs_background": "light"
     },
     "output_type": "display_data"
    }
   ],
   "source": [
    "params1.plotCIEllipse()"
   ]
  },
  {
   "cell_type": "code",
   "execution_count": null,
   "metadata": {},
   "outputs": [],
   "source": [
    "results2D = params1.dg.pn_data(5000)"
   ]
  },
  {
   "cell_type": "code",
   "execution_count": null,
   "metadata": {},
   "outputs": [
    {
     "data": {
      "text/plain": [
       "[(5000, 2), (5000, 1), (5000, 1), (2353, 2), (2647, 2), (2353, 1), (2647, 1)]"
      ]
     },
     "execution_count": null,
     "metadata": {},
     "output_type": "execute_result"
    }
   ],
   "source": [
    "[r.shape for r in results2D]"
   ]
  },
  {
   "cell_type": "markdown",
   "metadata": {},
   "source": [
    "positive class conditional distribution weights"
   ]
  },
  {
   "cell_type": "code",
   "execution_count": null,
   "metadata": {},
   "outputs": [
    {
     "data": {
      "text/plain": [
       "array([0.40830413, 0.14546069, 0.44623518])"
      ]
     },
     "execution_count": null,
     "metadata": {},
     "output_type": "execute_result"
    }
   ],
   "source": [
    "params1.dg.dist_p.mixProp"
   ]
  },
  {
   "cell_type": "markdown",
   "metadata": {},
   "source": [
    "negative class conditional distribution weights"
   ]
  },
  {
   "cell_type": "code",
   "execution_count": null,
   "metadata": {},
   "outputs": [
    {
     "data": {
      "text/plain": [
       "array([0.27782571, 0.05971392, 0.66246037])"
      ]
     },
     "execution_count": null,
     "metadata": {},
     "output_type": "execute_result"
    }
   ],
   "source": [
    "params1.dg.dist_n.mixProp"
   ]
  },
  {
   "cell_type": "code",
   "execution_count": null,
   "metadata": {},
   "outputs": [
    {
     "data": {
      "text/plain": [
       "<matplotlib.collections.PathCollection at 0x7f353f6fe370>"
      ]
     },
     "execution_count": null,
     "metadata": {},
     "output_type": "execute_result"
    },
    {
     "data": {
      "image/png": "[encoded data removed]",
      "text/plain": [
       "<Figure size 432x288 with 1 Axes>"
      ]
     },
     "metadata": {
      "needs_background": "light"
     },
     "output_type": "display_data"
    }
   ],
   "source": [
    "plt.scatter(*results2D[0][results2D[1].ravel()].T)\n",
    "plt.scatter(*results2D[0][~results2D[1].ravel()].T,alpha=.5)"
   ]
  },
  {
   "cell_type": "code",
   "execution_count": null,
   "metadata": {},
   "outputs": [],
   "source": []
  }
 ],
 "metadata": {
  "kernelspec": {
   "display_name": "Python 3 (ipykernel)",
   "language": "python",
   "name": "python3"
  }
 },
 "nbformat": 4,
 "nbformat_minor": 2
}
