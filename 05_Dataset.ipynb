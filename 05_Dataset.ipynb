{
 "cells": [
  {
   "cell_type": "markdown",
   "id": "83f89c79",
   "metadata": {},
   "source": [
    "# Dataset Generator"
   ]
  },
  {
   "cell_type": "code",
   "execution_count": null,
   "id": "98a9cb4c",
   "metadata": {},
   "outputs": [],
   "source": [
    "# default_exp dataset"
   ]
  },
  {
   "cell_type": "code",
   "execution_count": null,
   "id": "1bc3fd42",
   "metadata": {},
   "outputs": [],
   "source": [
    "# export\n",
    "from syntheticDataGen.randomParameters import NormalMixPNParameters2 as NMixPar\n",
    "\n",
    "def GaussianMixtureDataGenerator(dim, n_comps, aucpn_range,irreducibility_params,timeoutMins=1,nTimeouts=5):\n",
    "    #setting the thrid entry of irreducibility_params to False enforces pairwise mutual irreducibility\n",
    "    #setting the thrid entry of irreducibility_params to True enforces the strong irreducibility.\n",
    "    #The second entry of irreducibility_params is the the posterior threshold for irreducibility.\n",
    "    #The first argument is the proportion of points that should high enough posterior.\n",
    "    #Using 0.01 and 0.9 is easier to satisfy then 0.05 and 0.95. You may play with this,\n",
    "    # but note that the stronger irreducibility criteria, the more difficult it is to be satisfied\n",
    "    # and you might end up in infinite loop since no parameters could be founs to satisfy bo the\n",
    "    # itrreducibility and auc criteria.\n",
    "    NMix = NMixPar(dim, n_comps,aucpn_range, irreducibility_params,timeoutMins=timeoutMins,nTimeouts=nTimeouts)\n",
    "#     NMix.perturb2SatisfyMetrics()\n",
    "#     NMix.updateDataGenerator()\n",
    "    dg = NMix.dg\n",
    "    return NMix, dg"
   ]
  },
  {
   "cell_type": "code",
   "execution_count": null,
   "id": "21df272b",
   "metadata": {},
   "outputs": [],
   "source": [
    "# export\n",
    "from syntheticDataGen.mixture import Mixture\n",
    "\n",
    "def createMixture(NMix,cluster_num):\n",
    "    gamma = NMix.alpha * NMix.p_pos[cluster_num] + (1 - NMix.alpha) * NMix.p_neg[cluster_num]\n",
    "    eta = NMix.alpha * NMix.p_pos[cluster_num] / gamma\n",
    "    m = Mixture((NMix.dg.dist_p.comps[cluster_num],\n",
    "                 NMix.dg.dist_n.comps[cluster_num]),np.array([eta,1-eta]))\n",
    "    return m"
   ]
  },
  {
   "cell_type": "code",
   "execution_count": null,
   "id": "80eb34b9",
   "metadata": {},
   "outputs": [],
   "source": [
    "# export\n",
    "def pointsBetween(NMix,i,j):\n",
    "    mixI = createMixture(NMix,i)\n",
    "    mI = np.dot(mixI.mixProp,[c.mean for c in mixI.comps])\n",
    "    vec = NMix.vecBetweenPair(i,j)\n",
    "    for scale in np.arange(0,1,.01):\n",
    "        yield mI - vec * scale"
   ]
  },
  {
   "cell_type": "code",
   "execution_count": null,
   "id": "03e382fe",
   "metadata": {},
   "outputs": [],
   "source": [
    "# export\n",
    "import numpy as np\n",
    "def mycdf(mixture,x,n_samples=10000):\n",
    "    mixtureMean = mixture.mean\n",
    "    d = np.linalg.norm(mixtureMean - x)**2\n",
    "    dists = np.linalg.norm(mixture.rvs(n_samples) - mixtureMean,axis=-1)**2\n",
    "    return (dists <= d).sum() / n_samples"
   ]
  },
  {
   "cell_type": "code",
   "execution_count": null,
   "id": "3e3175cb",
   "metadata": {},
   "outputs": [],
   "source": [
    "# export\n",
    "def clustersConflict(NMix,i,j):\n",
    "    mixI = createMixture(NMix,i)\n",
    "    mixJ = createMixture(NMix,j)\n",
    "    for x in pointsBetween(NMix,i,j):\n",
    "        if (1 - mycdf(mixI,x)) > .05 and (1-mycdf(mixJ,x)) > .05:\n",
    "            return True\n",
    "    return False"
   ]
  },
  {
   "cell_type": "code",
   "execution_count": null,
   "id": "e58ffc8a",
   "metadata": {},
   "outputs": [],
   "source": [
    "# export\n",
    "from itertools import combinations\n",
    "import scipy.stats as ss\n",
    "\n",
    "def jitterMixtures(NMix,i,j):\n",
    "    jitterFactor = ss.gamma.rvs(2)\n",
    "    print(i,j,jitterFactor)\n",
    "    NMix.dg.components_pos[i].mean += jitterFactor\n",
    "    NMix.dg.components_neg[i].mean += jitterFactor\n",
    "    NMix.dg.components_pos[j].mean -= jitterFactor\n",
    "    NMix.dg.components_neg[j].mean -= jitterFactor\n",
    "    return NMix\n",
    "\n",
    "def getConflictingPairs(NMix):\n",
    "    return [(i,j) for i,j in combinations(np.arange(NMix.nComps),2) if clustersConflict(NMix,i,j)]\n",
    "\n",
    "def jitterComponents(NMix):\n",
    "    pairs = getConflictingPairs(NMix)\n",
    "    while len(pairs):\n",
    "        for i,j in pairs:\n",
    "            while clustersConflict(NMix,i,j):\n",
    "                NMix = jitterMixtures(NMix,i,j)\n",
    "        pairs = getConflictingPairs(NMix)\n",
    "    return NMix\n",
    "\n",
    "def generateParams(n_clusters,dim,aucRange,irreducibility_params=[.01,0.9,False],timeoutMins=1,nTimeouts=5):\n",
    "    NMix,dg = GaussianMixtureDataGenerator(dim,n_clusters,aucRange,irreducibility_params,timeoutMins=timeoutMins,nTimeouts=nTimeouts)\n",
    "    NMix = jitterComponents(NMix)\n",
    "    return NMix"
   ]
  },
  {
   "cell_type": "code",
   "execution_count": null,
   "id": "5149a8b9",
   "metadata": {},
   "outputs": [
    {
     "name": "stderr",
     "output_type": "stream",
     "text": [
      "\r",
      "  0%|                                                                                                                                                     | 0/3 [00:00<?, ?it/s]"
     ]
    },
    {
     "name": "stdout",
     "output_type": "stream",
     "text": [
      "isMetricSatisfied{'aucpn': 0.5, 'irreducibility': [0.0, 0.0]}\n",
      "anchorSetProp0.01\n",
      "Mu Perturb\n",
      "isMetricSatisfied{'aucpn': 0.75269, 'irreducibility': [0.0, 0.0]}\n",
      "anchorSetProp0.01\n",
      "Sigma Scale Perturb\n",
      "Sigma Ratios: [1.00000000e+00 1.52587891e-05]\n",
      "0.75\n",
      "Sigma Ratios: [1.        0.0100226]\n",
      "0.875\n",
      "Sigma Ratios: [1.         0.11806709]\n",
      "0.9375\n",
      "Sigma Ratios: [1.         0.35607413]\n",
      "0.96875\n"
     ]
    },
    {
     "name": "stderr",
     "output_type": "stream",
     "text": [
      "\r",
      " 33%|███████████████████████████████████████████████                                                                                              | 1/3 [00:00<00:00,  2.67it/s]"
     ]
    },
    {
     "name": "stdout",
     "output_type": "stream",
     "text": [
      "Sigma Ratios: [1.        0.6017103]\n",
      "Sigma Ratios: [1.        0.6017103]\n",
      "isMetricSatisfied{'aucpn': 0.76002756, 'irreducibility': [0.0, 0.0]}\n",
      "anchorSetProp0.01\n",
      "Mu Perturb\n",
      "isMetricSatisfied{'aucpn': 0.8699896, 'irreducibility': [0.0106, 0.0194]}\n",
      "anchorSetProp0.01\n",
      "isMetricSatisfied{'aucpn': 0.5, 'irreducibility': [0.0, 0.0]}\n",
      "anchorSetProp0.01\n",
      "Mu Perturb\n",
      "isMetricSatisfied{'aucpn': 0.7656784799999999, 'irreducibility': [0.0, 0.0]}\n",
      "anchorSetProp0.01\n",
      "Mu Perturb\n",
      "isMetricSatisfied{'aucpn': 0.7782407200000001, 'irreducibility': [0.0, 0.0004]}\n",
      "anchorSetProp0.01\n",
      "Mu Perturb\n",
      "isMetricSatisfied{'aucpn': 0.85147036, 'irreducibility': [0.008, 0.01]}\n",
      "anchorSetProp0.01\n",
      "Perturb Proportion\n",
      "isMetricSatisfied{'aucpn': 0.8590766400000002, 'irreducibility': [0.0086, 0.0108]}\n",
      "anchorSetProp0.01\n",
      "Perturb Proportion\n"
     ]
    },
    {
     "name": "stderr",
     "output_type": "stream",
     "text": [
      "\r",
      " 67%|██████████████████████████████████████████████████████████████████████████████████████████████                                               | 2/3 [00:01<00:00,  1.67it/s]"
     ]
    },
    {
     "name": "stdout",
     "output_type": "stream",
     "text": [
      "isMetricSatisfied{'aucpn': 0.8515144800000001, 'irreducibility': [0.009, 0.0098]}\n",
      "anchorSetProp0.01\n",
      "Mu Perturb\n",
      "isMetricSatisfied{'aucpn': 0.9189236799999999, 'irreducibility': [0.083, 0.0838]}\n",
      "anchorSetProp0.01\n",
      "isMetricSatisfied{'aucpn': 0.5, 'irreducibility': [0.0, 0.0]}\n",
      "anchorSetProp0.01\n",
      "Sigma Scale Perturb\n",
      "Sigma Ratios: [1.00000000e+00 1.52587891e-05]\n",
      "0.75\n",
      "Sigma Ratios: [1.        0.0100226]\n",
      "0.875\n",
      "Sigma Ratios: [1.         0.11806709]\n",
      "0.9375\n",
      "Sigma Ratios: [1.         0.35607413]\n",
      "0.96875\n",
      "Sigma Ratios: [1.        0.6017103]\n",
      "Sigma Ratios: [1.        0.6017103]\n",
      "isMetricSatisfied{'aucpn': 0.5317255599999999, 'irreducibility': [0.0, 0.0]}\n",
      "anchorSetProp0.01\n",
      "Sigma Scale Perturb\n",
      "Sigma Ratios: [1.0000000e+00 9.1813706e-06]\n",
      "0.75\n",
      "Sigma Ratios: [1.        0.0060307]\n",
      "0.875\n",
      "Sigma Ratios: [1.         0.07104218]\n",
      "0.9375\n",
      "Sigma Ratios: [1.         0.21425347]\n",
      "0.96875\n",
      "Sigma Ratios: [1.         0.36205529]\n",
      "0.984375\n",
      "Sigma Ratios: [1.         0.46768846]\n",
      "0.9921875\n",
      "Sigma Ratios: [1.        0.5307469]\n",
      "Sigma Ratios: [1.        0.5307469]\n",
      "isMetricSatisfied{'aucpn': 0.528941, 'irreducibility': [0.0, 0.0]}\n",
      "anchorSetProp0.01\n",
      "Sigma Shape Perturb\n",
      "Sigma Ratios: [0.18349102 1.        ]\n",
      "Sigma Ratios: [1.2224383 1.       ]\n",
      "Sigma Ratios: [1.2224383 1.       ]\n",
      "isMetricSatisfied{'aucpn': 0.75684748, 'irreducibility': [0.0, 0.1016]}\n",
      "anchorSetProp0.01\n",
      "Perturb Proportion\n",
      "isMetricSatisfied{'aucpn': 0.7585373599999999, 'irreducibility': [0.0, 0.1072]}\n",
      "anchorSetProp0.01\n",
      "Sigma Scale Perturb\n",
      "Sigma Ratios: [1.86529282e-05 1.00000000e+00]\n",
      "0.75\n",
      "Sigma Ratios: [0.012252 1.      ]\n",
      "0.875\n",
      "Sigma Ratios: [0.14432973 1.        ]\n",
      "0.9375\n",
      "Sigma Ratios: [0.43527866 1.        ]\n",
      "0.96875\n",
      "Sigma Ratios: [0.73555372 1.        ]\n",
      "Sigma Ratios: [0.73555372 1.        ]\n",
      "isMetricSatisfied{'aucpn': 0.76713628, 'irreducibility': [0.0, 0.0994]}\n",
      "anchorSetProp0.01\n",
      "Mu Perturb\n"
     ]
    },
    {
     "name": "stderr",
     "output_type": "stream",
     "text": [
      "100%|█████████████████████████████████████████████████████████████████████████████████████████████████████████████████████████████████████████████| 3/3 [00:02<00:00,  1.22it/s]"
     ]
    },
    {
     "name": "stdout",
     "output_type": "stream",
     "text": [
      "isMetricSatisfied{'aucpn': 0.84632204, 'irreducibility': [0.0044, 0.1272]}\n",
      "anchorSetProp0.01\n",
      "Mu Perturb\n",
      "isMetricSatisfied{'aucpn': 0.89701664, 'irreducibility': [0.0342, 0.1518]}\n",
      "anchorSetProp0.01\n"
     ]
    },
    {
     "name": "stderr",
     "output_type": "stream",
     "text": [
      "\n"
     ]
    },
    {
     "name": "stdout",
     "output_type": "stream",
     "text": [
      "0 1 3.78094857357646\n"
     ]
    }
   ],
   "source": [
    "paramset = generateParams(3,16,[.75,.95])"
   ]
  },
  {
   "cell_type": "code",
   "execution_count": null,
   "id": "5105edcc",
   "metadata": {},
   "outputs": [
    {
     "data": {
      "text/plain": [
       "(1000, 16)"
      ]
     },
     "execution_count": null,
     "metadata": {},
     "output_type": "execute_result"
    }
   ],
   "source": [
    "paramset.dg.pn_data(1000)[0].shape"
   ]
  },
  {
   "cell_type": "code",
   "execution_count": null,
   "id": "ec1f24dc",
   "metadata": {},
   "outputs": [],
   "source": []
  }
 ],
 "metadata": {
  "kernelspec": {
   "display_name": "structure",
   "language": "python",
   "name": "structure"
  }
 },
 "nbformat": 4,
 "nbformat_minor": 5
}
