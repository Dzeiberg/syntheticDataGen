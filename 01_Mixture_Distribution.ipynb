{
 "cells": [
  {
   "cell_type": "markdown",
   "id": "d362e28f",
   "metadata": {},
   "source": [
    "# Mixture Distribution"
   ]
  },
  {
   "cell_type": "code",
   "execution_count": null,
   "id": "2e2a5930",
   "metadata": {},
   "outputs": [],
   "source": [
    "# default_exp mixture"
   ]
  },
  {
   "cell_type": "code",
   "execution_count": null,
   "id": "e054b8d5",
   "metadata": {},
   "outputs": [],
   "source": [
    "# export\n",
    "import numpy as np\n",
    "import scipy.stats as ss\n",
    "\n",
    "class Mixture:\n",
    "    \"\"\"\n",
    "    Mixture Distribution\n",
    "    \"\"\"\n",
    "    def __init__(self, components, mixing_proportion):\n",
    "        \"\"\"\n",
    "        Required Arguments:\n",
    "        - comps : list of scipy style distrubutions : components of the mixture\n",
    "        - mixing_proportion : np.ndarray : mixture weights\n",
    "        \"\"\"\n",
    "        assert len(components) == len(mixing_proportion), \"Number of components must match that implied by the mixing proportions\"\n",
    "        assert np.allclose(mixing_proportion.sum(),1), f\"mixing proportions must add up to 1, sum is {mixing_proportion.sum()}\"\n",
    "        self.comps = components\n",
    "        self.mixProp = mixing_proportion\n",
    "\n",
    "    def pdf(self, x):\n",
    "        return np.sum((p * comp.pdf(x) for (comp, p) in zip(self.comps, self.mixProp)), axis=1)\n",
    "\n",
    "    def cdf(self, x):\n",
    "        return np.sum((p * comp.cdf(x) for (comp, p) in zip(self.comps, self.mixProp)), axis=1)\n",
    "\n",
    "    def rvs(self, size):\n",
    "        sizes = np.cast['int32'](np.floor(size * self.mixProp))\n",
    "        delta = np.cast['int32'](size - np.sum(sizes))\n",
    "        ix = np.random.choice(np.size(self.mixProp), size=delta, p=self.mixProp)\n",
    "        for ii in ix:\n",
    "            sizes[ii] = sizes[ii] + 1\n",
    "        dim = np.size(self.comps[0].rvs(size=1))\n",
    "        x = np.empty([0, dim])\n",
    "        for (s, comp) in zip(sizes, self.comps):\n",
    "            rvs = comp.rvs(size=[s, 1])\n",
    "            if s == 1:\n",
    "                rvs = np.expand_dims(rvs, axis=0)\n",
    "            if dim == 1:\n",
    "                rvs = rvs.reshape((np.size(rvs), 1))\n",
    "            x = np.concatenate((x, rvs), axis=0)\n",
    "        return x\n",
    "\n",
    "    @property\n",
    "    def mean(self):\n",
    "        try:\n",
    "            m = [c.mean() for c in self.comps]\n",
    "        except TypeError:\n",
    "            m = [c.mean for c in self.comps]\n",
    "        return np.dot(self.mixProp,m)\n",
    "\n",
    "    def rvsCompInfo(self, size):\n",
    "        sizes = np.cast['int32'](np.floor(size * self.mixProp))\n",
    "        delta = np.cast['int32'](size - np.sum(sizes))\n",
    "        ix = np.random.choice(np.size(self.mixProp), size=delta, p=self.mixProp)\n",
    "        for ii in ix:\n",
    "            sizes[ii] = sizes[ii] + 1\n",
    "        dim = np.size(self.comps[0].rvs(size=1))\n",
    "        x = np.empty([0, dim])\n",
    "        y = np.empty([0, 1])\n",
    "        k = 0\n",
    "        for (s, comp) in zip(sizes, self.comps):\n",
    "            rvs = comp.rvs(size=[s, 1])\n",
    "            if s == 1:\n",
    "                rvs = np.expand_dims(rvs, axis=0)\n",
    "            if dim == 1:\n",
    "                rvs = rvs.reshape((np.size(rvs), 1))\n",
    "            x = np.concatenate((x, rvs), axis=0)\n",
    "            y = np.concatenate((y, np.zeros([s, 1]) + k), axis=0)\n",
    "            k = k + 1\n",
    "        return x, y\n",
    "\n",
    "    def component_pdfs(self, x):\n",
    "        return (comp.pdf(x) for comp in self.comps)"
   ]
  },
  {
   "cell_type": "code",
   "execution_count": null,
   "id": "c8e4ea83",
   "metadata": {},
   "outputs": [],
   "source": [
    "gaussianMixture = Mixture([ss.norm(-5,2),ss.norm(5,2)],np.array([.5,.5]))"
   ]
  },
  {
   "cell_type": "code",
   "execution_count": null,
   "id": "0cfcba90",
   "metadata": {},
   "outputs": [],
   "source": [
    "import matplotlib.pyplot as plt"
   ]
  },
  {
   "cell_type": "code",
   "execution_count": null,
   "id": "ea3df829",
   "metadata": {},
   "outputs": [
    {
     "data": {
      "text/plain": [
       "(array([ 5., 12., 15., 15.,  3.,  2.,  6., 23., 13.,  6.]),\n",
       " array([-9.11054576, -7.38167665, -5.65280753, -3.92393842, -2.1950693 ,\n",
       "        -0.46620019,  1.26266893,  2.99153804,  4.72040716,  6.44927627,\n",
       "         8.17814539]),\n",
       " <BarContainer object of 10 artists>)"
      ]
     },
     "execution_count": null,
     "metadata": {},
     "output_type": "execute_result"
    },
    {
     "data": {
      "image/png": "[encoded data removed]",
      "text/plain": [
       "<Figure size 432x288 with 1 Axes>"
      ]
     },
     "metadata": {
      "needs_background": "light"
     },
     "output_type": "display_data"
    }
   ],
   "source": [
    "plt.hist(gaussianMixture.rvs(100))"
   ]
  },
  {
   "cell_type": "code",
   "execution_count": null,
   "id": "2d3aa73c",
   "metadata": {},
   "outputs": [],
   "source": []
  }
 ],
 "metadata": {
  "kernelspec": {
   "display_name": "structure",
   "language": "python",
   "name": "structure"
  }
 },
 "nbformat": 4,
 "nbformat_minor": 5
}
